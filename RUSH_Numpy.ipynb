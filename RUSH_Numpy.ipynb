{
  "nbformat": 4,
  "nbformat_minor": 0,
  "metadata": {
    "colab": {
      "name": "RUSH_Numpy.ipynb",
      "provenance": [],
      "include_colab_link": true
    },
    "kernelspec": {
      "name": "python3",
      "display_name": "Python 3"
    }
  },
  "cells": [
    {
      "cell_type": "markdown",
      "metadata": {
        "id": "view-in-github",
        "colab_type": "text"
      },
      "source": [
        "<a href=\"https://colab.research.google.com/github/AmberFu/42_Rush_Numpy/blob/master/RUSH_Numpy.ipynb\" target=\"_parent\"><img src=\"https://colab.research.google.com/assets/colab-badge.svg\" alt=\"Open In Colab\"/></a>"
      ]
    },
    {
      "cell_type": "markdown",
      "metadata": {
        "id": "1UTR_msnoYIT",
        "colab_type": "text"
      },
      "source": [
        "pfu"
      ]
    },
    {
      "cell_type": "code",
      "metadata": {
        "id": "-4X8FOUCmh_L",
        "colab_type": "code",
        "outputId": "ffa61b9b-1188-4e70-e5eb-c6b02a4fbb7c",
        "colab": {
          "base_uri": "https://localhost:8080/",
          "height": 69
        }
      },
      "source": [
        "import numpy as np\n",
        "\n",
        "np.ones((3,2))"
      ],
      "execution_count": 0,
      "outputs": [
        {
          "output_type": "execute_result",
          "data": {
            "text/plain": [
              "array([[1., 1.],\n",
              "       [1., 1.],\n",
              "       [1., 1.]])"
            ]
          },
          "metadata": {
            "tags": []
          },
          "execution_count": 1
        }
      ]
    },
    {
      "cell_type": "code",
      "metadata": {
        "id": "qal3uOJeoXBg",
        "colab_type": "code",
        "outputId": "4bb31aea-8451-454d-97eb-834835d4e2e9",
        "colab": {
          "base_uri": "https://localhost:8080/",
          "height": 69
        }
      },
      "source": [
        "# 1. Create a matrix of random values of a distribution of your choice.\n",
        "# np.random.rand(row, column)\n",
        "np.random.rand(3,2)"
      ],
      "execution_count": 0,
      "outputs": [
        {
          "output_type": "execute_result",
          "data": {
            "text/plain": [
              "array([[0.55579873, 0.68660805],\n",
              "       [0.18162867, 0.58675911],\n",
              "       [0.06913145, 0.88484724]])"
            ]
          },
          "metadata": {
            "tags": []
          },
          "execution_count": 2
        }
      ]
    },
    {
      "cell_type": "code",
      "metadata": {
        "id": "d8OARdZ2o4k8",
        "colab_type": "code",
        "outputId": "6cc5ca61-1b75-4927-ef06-2ff7d590b16c",
        "colab": {
          "base_uri": "https://localhost:8080/",
          "height": 86
        }
      },
      "source": [
        "# 2. Create a 1-dimensional array of 12 sequential numbers and convert it to a 4x3 array.\n",
        "arr_1d = np.random.rand(12)\n",
        "arr_2d = np.reshape(arr_1d, (4,3))\n",
        "arr_2d"
      ],
      "execution_count": 0,
      "outputs": [
        {
          "output_type": "execute_result",
          "data": {
            "text/plain": [
              "array([[0.52011903, 0.85006528, 0.68830658],\n",
              "       [0.26460134, 0.58124694, 0.70975428],\n",
              "       [0.99770853, 0.728203  , 0.19453587],\n",
              "       [0.29666105, 0.87331205, 0.22039248]])"
            ]
          },
          "metadata": {
            "tags": []
          },
          "execution_count": 3
        }
      ]
    },
    {
      "cell_type": "code",
      "metadata": {
        "id": "iN6GJRp5o99C",
        "colab_type": "code",
        "outputId": "5c040090-482b-4c03-f85f-0f6fc5b601ea",
        "colab": {
          "base_uri": "https://localhost:8080/",
          "height": 132
        }
      },
      "source": [
        "# 3. Write a function that creates an incremental N-dimensional (nd) array of dimension \n",
        "#    (1,n) with values between 0 and 1. Use arr.shape to verify\n",
        "def nd_arr_from0to1(int n):\n",
        "    return np.random.rand(1,n)\n",
        "\n",
        "# 3. Write a function that creates an incremental N-dimensional (nd) array of dimension \n",
        "#    (1,n) with values between 0 and 1. Use arr.shape to verify\n",
        "def nd_arr_from0to1(int n):\n",
        "    return np.random.rand(1,n)\n",
        "\n",
        "  nd_arr_from0to1(5)"
      ],
      "execution_count": 0,
      "outputs": [
        {
          "output_type": "error",
          "ename": "SyntaxError",
          "evalue": "ignored",
          "traceback": [
            "\u001b[0;36m  File \u001b[0;32m\"<ipython-input-4-3cf5ffb3a61f>\"\u001b[0;36m, line \u001b[0;32m1\u001b[0m\n\u001b[0;31m    def nd_arr_from0to1(int n):\u001b[0m\n\u001b[0m                            ^\u001b[0m\n\u001b[0;31mSyntaxError\u001b[0m\u001b[0;31m:\u001b[0m invalid syntax\n"
          ]
        }
      ]
    },
    {
      "cell_type": "code",
      "metadata": {
        "id": "FpmOwj7ypB9r",
        "colab_type": "code",
        "colab": {}
      },
      "source": [
        "# 4. Generate a 10x12 array and extract row 0-4 of columns 8-12.\n"
      ],
      "execution_count": 0,
      "outputs": []
    },
    {
      "cell_type": "code",
      "metadata": {
        "id": "qfD4l3L5pCCI",
        "colab_type": "code",
        "colab": {}
      },
      "source": [
        "# 5. Using the function in Q3, get m vectors and bind them together (to have a m x n)\n",
        "#    matrix. Plot the matrix with matplotlib’s imshow\n",
        "\n"
      ],
      "execution_count": 0,
      "outputs": []
    },
    {
      "cell_type": "code",
      "metadata": {
        "id": "0QW5oNmFpCUs",
        "colab_type": "code",
        "colab": {}
      },
      "source": [
        ""
      ],
      "execution_count": 0,
      "outputs": []
    },
    {
      "cell_type": "code",
      "metadata": {
        "id": "MStqWXC2pCA8",
        "colab_type": "code",
        "colab": {}
      },
      "source": [
        ""
      ],
      "execution_count": 0,
      "outputs": []
    }
  ]
}